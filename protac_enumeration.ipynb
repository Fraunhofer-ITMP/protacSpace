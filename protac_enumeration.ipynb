{
 "cells": [
  {
   "cell_type": "markdown",
   "id": "e419d1b6",
   "metadata": {},
   "source": [
    "# <center> Codebase for generating virtual protacs"
   ]
  },
  {
   "cell_type": "code",
   "execution_count": null,
   "id": "706a288b",
   "metadata": {},
   "outputs": [],
   "source": [
    "pip install -r requirements.txt"
   ]
  },
  {
   "cell_type": "markdown",
   "id": "b32d053b",
   "metadata": {},
   "source": [
    "### Import packages "
   ]
  },
  {
   "cell_type": "code",
   "execution_count": 1,
   "id": "1125f064",
   "metadata": {},
   "outputs": [],
   "source": [
    "from codes import *\n",
    "\n",
    "from rdkit.Chem.Draw import IPythonConsole\n",
    "from rdkit.Chem.Draw import MolDrawing, DrawingOptions\n",
    "from rdkit.Chem import Descriptors, Draw, PandasTools\n",
    "\n",
    "DrawingOptions.bondLineWidth=1.8\n",
    "DrawingOptions.atomLabelFontSize=14\n",
    "#DrawingOptions.includeAtomNumbers=False\n",
    "\n",
    "IPythonConsole.drawOptions.addAtomIndices = True\n",
    "IPythonConsole.molSize = 800,800\n",
    "\n",
    "from itertools import groupby\n"
   ]
  },
  {
   "cell_type": "markdown",
   "id": "eceb642f",
   "metadata": {},
   "source": [
    "### Read files (source: PROTAC-DB: http://cadd.zju.edu.cn/protacdb/downloads)"
   ]
  },
  {
   "cell_type": "code",
   "execution_count": 2,
   "id": "390c5c5a",
   "metadata": {},
   "outputs": [],
   "source": [
    "e3 = pd.read_csv('data/raw/e3_ligand.csv',usecols=['Compound ID','Smiles','Target','InChI Key'])\n",
    "whead = pd.read_csv('data/raw/warhead.csv',usecols=['Compound ID','Smiles','InChI Key'])\n",
    "link = pd.read_csv('data/raw/linker.csv',usecols=['Compound ID','Smiles','InChI Key'])"
   ]
  },
  {
   "cell_type": "markdown",
   "id": "afefc8e2",
   "metadata": {},
   "source": [
    "### Clean smiles and generate unique lists"
   ]
  },
  {
   "cell_type": "code",
   "execution_count": 3,
   "id": "d293bd98",
   "metadata": {},
   "outputs": [],
   "source": [
    "e3 = remove_salt(e3,'Smiles')\n",
    "whead = remove_salt(whead,'Smiles')\n",
    "link = remove_salt(link, 'Smiles')\n",
    "\n",
    "e3b = [Chem.MolFromSmiles(smi) for smi in e3['Smiles']]\n",
    "e3b = list(set([Chem.MolToSmiles(mol) for mol in e3b]))\n",
    "\n",
    "wh = [Chem.MolFromSmiles(smi) for smi in whead['Smiles']]\n",
    "wh = list(set([Chem.MolToSmiles(mol) for mol in wh]))\n",
    "\n",
    "lin = [Chem.MolFromSmiles(smi) for smi in link['Smiles']]\n",
    "lin = list(set([Chem.MolToSmiles(mol) for mol in lin]))"
   ]
  },
  {
   "cell_type": "markdown",
   "id": "dd2d25a7",
   "metadata": {},
   "source": [
    "### Generate virtual PROTACS"
   ]
  },
  {
   "cell_type": "code",
   "execution_count": 6,
   "id": "fa88b33b",
   "metadata": {},
   "outputs": [
    {
     "name": "stdout",
     "output_type": "stream",
     "text": [
      "Linker 1\n",
      "Linker 2\n",
      "Linker 3\n",
      "Linker 4\n",
      "Linker 5\n",
      "Linker 6\n",
      "Linker 7\n",
      "Linker 8\n",
      "Linker 9\n",
      "Linker 10\n",
      "Linker 11\n",
      "Linker 12\n",
      "Linker 13\n",
      "Linker 14\n",
      "Linker 15\n",
      "Linker 16\n",
      "Linker 17\n",
      "Linker 18\n",
      "Linker 19\n",
      "Linker 20\n"
     ]
    }
   ],
   "source": [
    "linker_list = lin[0:20]\n",
    "e3b_list = e3b[0:20]\n",
    "wh_list = wh[0:20]\n",
    "\n",
    "final_df = pd.DataFrame()\n",
    "for i,l in enumerate(linker_list):\n",
    "    \n",
    "    #keep track of linkers\n",
    "    print('Linker',i+1)\n",
    "    for j,e in enumerate(e3b_list):\n",
    "   \n",
    "        for k,w in enumerate(wh_list):\n",
    "          \n",
    "            enum_ptac = Generate_Protacs(l,e,w)\n",
    "            \n",
    "            if not enum_ptac.empty:\n",
    "                final_df = pd.concat([final_df,enum_ptac])"
   ]
  },
  {
   "cell_type": "code",
   "execution_count": 7,
   "id": "0a583edf",
   "metadata": {},
   "outputs": [
    {
     "data": {
      "text/plain": [
       "175864"
      ]
     },
     "execution_count": 7,
     "metadata": {},
     "output_type": "execute_result"
    }
   ],
   "source": [
    "len(final_df)"
   ]
  },
  {
   "cell_type": "markdown",
   "id": "83486c48",
   "metadata": {},
   "source": [
    "### Save to file"
   ]
  },
  {
   "cell_type": "code",
   "execution_count": 8,
   "id": "7e9fd42f",
   "metadata": {},
   "outputs": [],
   "source": [
    "final_df.to_csv('data/output/protac_enum.csv')"
   ]
  },
  {
   "cell_type": "markdown",
   "id": "831450fe",
   "metadata": {},
   "source": [
    "### Add PROTAC structure to dataframe"
   ]
  },
  {
   "cell_type": "code",
   "execution_count": null,
   "id": "17653e3c",
   "metadata": {},
   "outputs": [],
   "source": [
    "PandasTools.AddMoleculeColumnToFrame(final_df_subset, \"protac\")"
   ]
  },
  {
   "cell_type": "markdown",
   "id": "bbdc1458",
   "metadata": {},
   "source": [
    "### Export dataframe with PROTAC structures as images (Takes longer, so export is only for subset)"
   ]
  },
  {
   "cell_type": "code",
   "execution_count": 9,
   "id": "eaa2e58d",
   "metadata": {},
   "outputs": [
    {
     "name": "stderr",
     "output_type": "stream",
     "text": [
      "C:\\Users\\reagon.karki\\AppData\\Local\\Temp\\ipykernel_10736\\4089484144.py:3: SettingWithCopyWarning: \n",
      "A value is trying to be set on a copy of a slice from a DataFrame.\n",
      "Try using .loc[row_indexer,col_indexer] = value instead\n",
      "\n",
      "See the caveats in the documentation: https://pandas.pydata.org/pandas-docs/stable/user_guide/indexing.html#returning-a-view-versus-a-copy\n",
      "  subset_df['protac image'] = [Chem.MolFromSmiles(s) for s in subset_df['protac']]\n"
     ]
    }
   ],
   "source": [
    "subset_df = final_df[0:500]\n",
    "\n",
    "subset_df['protac image'] = [Chem.MolFromSmiles(s) for s in subset_df['protac']]\n",
    "\n",
    "PandasTools.SaveXlsxFromFrame(subset_df, 'data/output/protac_enum_withStructure_500.xlsx', molCol='protac image')"
   ]
  },
  {
   "cell_type": "code",
   "execution_count": null,
   "id": "07601de1",
   "metadata": {},
   "outputs": [],
   "source": []
  }
 ],
 "metadata": {
  "kernelspec": {
   "display_name": "Python 3 (ipykernel)",
   "language": "python",
   "name": "python3"
  },
  "language_info": {
   "codemirror_mode": {
    "name": "ipython",
    "version": 3
   },
   "file_extension": ".py",
   "mimetype": "text/x-python",
   "name": "python",
   "nbconvert_exporter": "python",
   "pygments_lexer": "ipython3",
   "version": "3.10.4"
  }
 },
 "nbformat": 4,
 "nbformat_minor": 5
}
